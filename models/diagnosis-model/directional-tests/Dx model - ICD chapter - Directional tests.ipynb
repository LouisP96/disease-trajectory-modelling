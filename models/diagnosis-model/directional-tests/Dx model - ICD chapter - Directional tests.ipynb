{
 "cells": [
  {
   "cell_type": "code",
   "execution_count": 1,
   "metadata": {},
   "outputs": [],
   "source": [
    "import pandas as pd\n",
    "import numpy as np\n",
    "import os\n",
    "from pandasql import sqldf\n",
    "from scipy import stats\n",
    "import time\n",
    "import networkx as nx"
   ]
  },
  {
   "cell_type": "code",
   "execution_count": 3,
   "metadata": {},
   "outputs": [],
   "source": [
    "dataset_loc = '...'\n",
    "dx_df = pd.read_csv(dataset_loc)\n",
    "\n",
    "icd_list = [[]] # Insert list of diagnosis pairs to test directionality for eg. for pairs with RR > 1 in either/both directions\n",
    "\n",
    "dir_result = []\n",
    "\n",
    "# For each pair, find patients who are diagnosed with each diagnosis in the pair at least once\n",
    "# and add columns for which diagnosis appears first\n",
    "for icd1, icd2 in icd_list:\n",
    "    q = \"\"\"\n",
    "    SELECT MIN(a.patid), MIN(a.epistart), MAX(a.chapter), MAX(b.patid), MIN(b.epistart), MAX(b.chapter),\n",
    "    MIN(a.epistart)<MIN(b.epistart) as D1first, MIN(a.epistart)>MIN(b.epistart) as D2first\n",
    "    FROM dx_df AS a\n",
    "    JOIN dx_df AS b\n",
    "    ON a.patid = b.patid\n",
    "    WHERE a.chapter = {}\n",
    "    AND b.chapter = {}\n",
    "    GROUP BY a.patid\n",
    "    LIMIT 10000000;\n",
    "    \"\"\".format(icd1,icd2)\n",
    "    pairdf = sqldf(q)\n",
    "    D1first = pairdf['D1first'].sum() # Sum number of times D1 diagnosed first\n",
    "    D2first = pairdf['D2first'].sum() # Sum number of times D2 diagnosed first\n",
    "    total = len(pairdf) # Total number of patients with both diagnoses\n",
    "    D1pval = stats.binom_test(D1first, n=total, p = 0.5, alternative='greater') # p-value from binomial test for D1\n",
    "    D2pval = stats.binom_test(D2first, n=total, p = 0.5, alternative='greater') # p-value from binomial test for D2\n",
    "    # Record results\n",
    "    pair_result = []\n",
    "    pair_result.append(icd1)\n",
    "    pair_result.append(icd2)\n",
    "    pair_result.append(D1first)\n",
    "    pair_result.append(D2first)\n",
    "    pair_result.append(total)\n",
    "    pair_result.append(D1pval)\n",
    "    pair_result.append(D2pval)\n",
    "    dir_result.append(pair_result)\n",
    "    print(pair_result)\n",
    "\n",
    "# pd.DataFrame(dir_result).to_csv('ICDChaptersDirResults.csv', index=False)   "
   ]
  }
 ],
 "metadata": {
  "kernelspec": {
   "display_name": "Python 3",
   "language": "python",
   "name": "python3"
  },
  "language_info": {
   "codemirror_mode": {
    "name": "ipython",
    "version": 3
   },
   "file_extension": ".py",
   "mimetype": "text/x-python",
   "name": "python",
   "nbconvert_exporter": "python",
   "pygments_lexer": "ipython3",
   "version": "3.8.5"
  }
 },
 "nbformat": 4,
 "nbformat_minor": 4
}
