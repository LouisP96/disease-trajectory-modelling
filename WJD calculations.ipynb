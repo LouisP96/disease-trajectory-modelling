{
 "cells": [
  {
   "cell_type": "code",
   "execution_count": 2,
   "metadata": {},
   "outputs": [],
   "source": [
    "import pandas as pd\n",
    "import numpy as np\n",
    "import os\n",
    "from pandasql import sqldf\n",
    "from scipy import stats\n",
    "import time\n",
    "import networkx as nx\n",
    "import simple_icd_10_cm as cm\n",
    "import random"
   ]
  },
  {
   "cell_type": "code",
   "execution_count": null,
   "metadata": {},
   "outputs": [],
   "source": [
    "# Calculate Weighted Jaccard distance between models using different dataset sizes\n",
    "\n",
    "comparison_dataset = \"...\" # Insert path to csv where each column contains RR values for models run on different datasets\n",
    "\n",
    "comp_df = pd.read_csv(comparison_dataset)\n",
    "\n",
    "first = '120k' # One column name\n",
    "second = '250k' # Another column name to compare against the first\n",
    "\n",
    "# Weighted Jaccard distance between the two models\n",
    "1-np.sum(comp_df.apply(lambda row: min(row[first],row[second]),axis=1))/np.sum(comp_df.apply(lambda row: max(row[first],row[second]),axis=1))"
   ]
  },
  {
   "cell_type": "code",
   "execution_count": null,
   "metadata": {},
   "outputs": [],
   "source": [
    "# Create comparison matrix for dataset with randomly shuffled rows\n",
    "\n",
    "dataset = '...' # Insert path to csv containing RR values\n",
    "\n",
    "RR_df = pd.read_csv(dataset)\n",
    "\n",
    "# Shuffle random rows\n",
    "\n",
    "RR_df2 = RR_df.copy(deep=True) # Create copy of dataframe\n",
    "rows_to_shuffle = RR_df2.sample(frac=0.75) # Choose percentage of rows to shuffle\n",
    "indexes = list(rows_to_shuffle.index.array) # Save indexes of these rows\n",
    "shuffled_rows = rows_to_shuffle.sample(frac=1).reset_index(drop=True) # Shuffle rows\n",
    "shuffled_rows = shuffled_rows.set_index([indexes]) # Relabel indexes\n",
    "RR_df2.loc[RR_df2.RR.isin(shuffled_rows.RR),['RR']]=shuffled_rows[['RR']] # Insert shuffled rows into original dataframe\n",
    "RR_df['Shuffled']=RR_df2['RR'] # Add shuffled column to original dataframe\n",
    "\n",
    "# Calculate weighted Jaccard distance between original rows and shuffled rows\n",
    "\n",
    "1-np.sum(RR_df.apply(lambda row: min(row['RR'],row['Shuffled']),axis=1))/np.sum(RR_df.apply(lambda row: max(row['RR'],row['Shuffled']),axis=1)) "
   ]
  }
 ],
 "metadata": {
  "kernelspec": {
   "display_name": "Python 3",
   "language": "python",
   "name": "python3"
  },
  "language_info": {
   "codemirror_mode": {
    "name": "ipython",
    "version": 3
   },
   "file_extension": ".py",
   "mimetype": "text/x-python",
   "name": "python",
   "nbconvert_exporter": "python",
   "pygments_lexer": "ipython3",
   "version": "3.8.5"
  }
 },
 "nbformat": 4,
 "nbformat_minor": 4
}
