{
 "cells": [
  {
   "cell_type": "code",
   "execution_count": 1,
   "id": "stainless-tunisia",
   "metadata": {},
   "outputs": [],
   "source": [
    "import pandas as pd\n",
    "import numpy as np\n",
    "import os\n",
    "from pandasql import sqldf\n",
    "from scipy import stats\n",
    "import time\n",
    "import networkx as nx\n",
    "import simple_icd_10_cm as cm\n",
    "import random"
   ]
  },
  {
   "cell_type": "code",
   "execution_count": null,
   "id": "seven-travel",
   "metadata": {},
   "outputs": [],
   "source": [
    "# Calculate overlap between top 3/5 RR connections for each node across the same model using different subsets of the data\n",
    "# or different models"
   ]
  },
  {
   "cell_type": "code",
   "execution_count": 167,
   "id": "authorized-start",
   "metadata": {},
   "outputs": [],
   "source": [
    "dataset_1 = '...' # Insert path to csv containing results including columns: Source Node (\"D1\"), Destination Node (\"D2\") and RR (\"RR\")\n",
    "dataset_2 = '...' # Insert path to csv to compare against containing results in same format\n",
    "\n",
    "df1 = pd.read_csv(dataset_1) \n",
    "df2 = pd.read_csv(dataset_2) \n",
    "\n",
    "dx_list = df1['D1'].value_counts().index # List of nodes"
   ]
  },
  {
   "cell_type": "code",
   "execution_count": 164,
   "id": "frank-resistance",
   "metadata": {
    "scrolled": true
   },
   "outputs": [],
   "source": [
    "top_3_total = 0\n",
    "top_5_total = 0\n",
    "for dx in dx_list:\n",
    "    d1 = df1[df1['D1']== dx].sort_values(by=['RR'],ascending=False) # Sort first dataset into descending order by RR\n",
    "    d2 = df2[df2['D1']==dx].sort_values(by=['RR'],ascending=False) #  Sort second dataset into descending order by RR\n",
    "    top_3_total += len(set(d1[:3]['D2']).intersection(set(d2[:3]['D2']))) # Amount of overlap between first 3 values\n",
    "    top_5_total += len(set(d1[:5]['D2']).intersection(set(d2[:5]['D2']))) # Amount of overlap between first 5 values\n",
    "    \n",
    "top_3_percent = top_3_total/(len(dx_list)*3) # % overlap for top 3 connections across all nodes \n",
    "top_5_percent = top_5_total/(len(dx_list)*5) # % overlap for top 5 connections across all nodes "
   ]
  },
  {
   "cell_type": "code",
   "execution_count": 3,
   "id": "statutory-sitting",
   "metadata": {},
   "outputs": [],
   "source": [
    "# Construct comparison matrices"
   ]
  },
  {
   "cell_type": "code",
   "execution_count": 11,
   "id": "elder-determination",
   "metadata": {
    "scrolled": true
   },
   "outputs": [
    {
     "data": {
      "text/html": [
       "<div>\n",
       "<style scoped>\n",
       "    .dataframe tbody tr th:only-of-type {\n",
       "        vertical-align: middle;\n",
       "    }\n",
       "\n",
       "    .dataframe tbody tr th {\n",
       "        vertical-align: top;\n",
       "    }\n",
       "\n",
       "    .dataframe thead th {\n",
       "        text-align: right;\n",
       "    }\n",
       "</style>\n",
       "<table border=\"1\" class=\"dataframe\">\n",
       "  <thead>\n",
       "    <tr style=\"text-align: right;\">\n",
       "      <th></th>\n",
       "      <th>1k</th>\n",
       "      <th>10k</th>\n",
       "      <th>20k</th>\n",
       "      <th>50k</th>\n",
       "      <th>120k</th>\n",
       "    </tr>\n",
       "    <tr>\n",
       "      <th></th>\n",
       "      <th></th>\n",
       "      <th></th>\n",
       "      <th></th>\n",
       "      <th></th>\n",
       "      <th></th>\n",
       "    </tr>\n",
       "  </thead>\n",
       "  <tbody>\n",
       "    <tr>\n",
       "      <th>1k</th>\n",
       "      <td>NaN</td>\n",
       "      <td>NaN</td>\n",
       "      <td>NaN</td>\n",
       "      <td>NaN</td>\n",
       "      <td>NaN</td>\n",
       "    </tr>\n",
       "    <tr>\n",
       "      <th>10k</th>\n",
       "      <td>0.204</td>\n",
       "      <td>NaN</td>\n",
       "      <td>NaN</td>\n",
       "      <td>NaN</td>\n",
       "      <td>NaN</td>\n",
       "    </tr>\n",
       "    <tr>\n",
       "      <th>20k</th>\n",
       "      <td>0.200</td>\n",
       "      <td>0.536</td>\n",
       "      <td>NaN</td>\n",
       "      <td>NaN</td>\n",
       "      <td>NaN</td>\n",
       "    </tr>\n",
       "    <tr>\n",
       "      <th>50k</th>\n",
       "      <td>0.228</td>\n",
       "      <td>0.568</td>\n",
       "      <td>0.720</td>\n",
       "      <td>NaN</td>\n",
       "      <td>NaN</td>\n",
       "    </tr>\n",
       "    <tr>\n",
       "      <th>120k</th>\n",
       "      <td>0.244</td>\n",
       "      <td>0.576</td>\n",
       "      <td>0.704</td>\n",
       "      <td>0.788</td>\n",
       "      <td>NaN</td>\n",
       "    </tr>\n",
       "  </tbody>\n",
       "</table>\n",
       "</div>"
      ],
      "text/plain": [
       "         1k    10k    20k    50k  120k\n",
       "                                      \n",
       "1k      NaN    NaN    NaN    NaN   NaN\n",
       "10k   0.204    NaN    NaN    NaN   NaN\n",
       "20k   0.200  0.536    NaN    NaN   NaN\n",
       "50k   0.228  0.568  0.720    NaN   NaN\n",
       "120k  0.244  0.576  0.704  0.788   NaN"
      ]
     },
     "execution_count": 11,
     "metadata": {},
     "output_type": "execute_result"
    }
   ],
   "source": [
    "comp_matrix = \"...\" # Insert path to csv containing matrix comparing distances between models\n",
    "df = pd.read_csv(comp_matrix, index_col = ' ')\n",
    "\n",
    "df"
   ]
  },
  {
   "cell_type": "code",
   "execution_count": 12,
   "id": "supposed-algeria",
   "metadata": {
    "scrolled": true
   },
   "outputs": [
    {
     "data": {
      "image/png": "[encoded data removed]",
      "text/plain": [
       "<Figure size 432x288 with 2 Axes>"
      ]
     },
     "metadata": {
      "needs_background": "light"
     },
     "output_type": "display_data"
    }
   ],
   "source": [
    "matrix_mask = np.triu(df) # Create mask so only get lower matrix\n",
    "plot = sns.heatmap(df, annot=True, mask=matrix_mask)\n",
    "fig = plot.get_figure()\n",
    "# fig.savefig('BNF section top 5 plot.jpg')"
   ]
  }
 ],
 "metadata": {
  "kernelspec": {
   "display_name": "Python 3",
   "language": "python",
   "name": "python3"
  },
  "language_info": {
   "codemirror_mode": {
    "name": "ipython",
    "version": 3
   },
   "file_extension": ".py",
   "mimetype": "text/x-python",
   "name": "python",
   "nbconvert_exporter": "python",
   "pygments_lexer": "ipython3",
   "version": "3.8.5"
  }
 },
 "nbformat": 4,
 "nbformat_minor": 5
}
