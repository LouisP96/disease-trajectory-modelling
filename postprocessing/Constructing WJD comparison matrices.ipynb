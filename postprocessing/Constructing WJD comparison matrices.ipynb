{
 "cells": [
  {
   "cell_type": "code",
   "execution_count": 2,
   "id": "advance-preliminary",
   "metadata": {},
   "outputs": [],
   "source": [
    "import pandas as pd\n",
    "import numpy as np\n",
    "import os\n",
    "from pandasql import sqldf\n",
    "from scipy import stats\n",
    "import time\n",
    "import networkx as nx\n",
    "import simple_icd_10_cm as cm\n",
    "import random\n",
    "from string import ascii_letters\n",
    "import seaborn as sns\n",
    "import matplotlib.pyplot as plt"
   ]
  },
  {
   "cell_type": "code",
   "execution_count": null,
   "id": "constant-loading",
   "metadata": {},
   "outputs": [],
   "source": [
    "# Calculate Weighted Jaccard distance between models using different dataset sizes\n",
    "\n",
    "comparison_dataset = \"...\" # Insert path to csv where each column contains RR values for models run on different datasets\n",
    "\n",
    "comp_df = pd.read_csv(comparison_dataset)\n",
    "\n",
    "first = '120k' # One column name\n",
    "second = '250k' # Another column name to compare against the first\n",
    "\n",
    "# Weighted Jaccard distance between the two models\n",
    "1-np.sum(comp_df.apply(lambda row: min(row[first],row[second]),axis=1))/np.sum(comp_df.apply(lambda row: max(row[first],row[second]),axis=1))"
   ]
  },
  {
   "cell_type": "code",
   "execution_count": null,
   "id": "behavioral-parliament",
   "metadata": {},
   "outputs": [],
   "source": [
    "# Create comparison matrix for dataset with randomly shuffled rows\n",
    "\n",
    "dataset = '...' # Insert path to csv containing RR values\n",
    "\n",
    "RR_df = pd.read_csv(dataset)\n",
    "\n",
    "# Shuffle random rows\n",
    "\n",
    "RR_df2 = RR_df.copy(deep=True) # Create copy of dataframe\n",
    "rows_to_shuffle = RR_df2.sample(frac=0.75) # Choose percentage of rows to shuffle\n",
    "indexes = list(rows_to_shuffle.index.array) # Save indexes of these rows\n",
    "shuffled_rows = rows_to_shuffle.sample(frac=1).reset_index(drop=True) # Shuffle rows\n",
    "shuffled_rows = shuffled_rows.set_index([indexes]) # Relabel indexes\n",
    "RR_df2.loc[RR_df2.RR.isin(shuffled_rows.RR),['RR']]=shuffled_rows[['RR']] # Insert shuffled rows into original dataframe\n",
    "RR_df['Shuffled']=RR_df2['RR'] # Add shuffled column to original dataframe\n",
    "\n",
    "# Calculate weighted Jaccard distance between original rows and shuffled rows\n",
    "\n",
    "1-np.sum(RR_df.apply(lambda row: min(row['RR'],row['Shuffled']),axis=1))/np.sum(RR_df.apply(lambda row: max(row['RR'],row['Shuffled']),axis=1)) "
   ]
  },
  {
   "cell_type": "code",
   "execution_count": null,
   "id": "elementary-cleaner",
   "metadata": {},
   "outputs": [],
   "source": [
    "# Construct comparison matrix visualisation"
   ]
  },
  {
   "cell_type": "code",
   "execution_count": 136,
   "id": "annoying-maldives",
   "metadata": {
    "scrolled": false
   },
   "outputs": [
    {
     "data": {
      "text/html": [
       "<div>\n",
       "<style scoped>\n",
       "    .dataframe tbody tr th:only-of-type {\n",
       "        vertical-align: middle;\n",
       "    }\n",
       "\n",
       "    .dataframe tbody tr th {\n",
       "        vertical-align: top;\n",
       "    }\n",
       "\n",
       "    .dataframe thead th {\n",
       "        text-align: right;\n",
       "    }\n",
       "</style>\n",
       "<table border=\"1\" class=\"dataframe\">\n",
       "  <thead>\n",
       "    <tr style=\"text-align: right;\">\n",
       "      <th></th>\n",
       "      <th>1k</th>\n",
       "      <th>10k</th>\n",
       "      <th>50k</th>\n",
       "      <th>120k</th>\n",
       "      <th>250k</th>\n",
       "    </tr>\n",
       "    <tr>\n",
       "      <th></th>\n",
       "      <th></th>\n",
       "      <th></th>\n",
       "      <th></th>\n",
       "      <th></th>\n",
       "      <th></th>\n",
       "    </tr>\n",
       "  </thead>\n",
       "  <tbody>\n",
       "    <tr>\n",
       "      <th>1k</th>\n",
       "      <td>NaN</td>\n",
       "      <td>NaN</td>\n",
       "      <td>NaN</td>\n",
       "      <td>NaN</td>\n",
       "      <td>NaN</td>\n",
       "    </tr>\n",
       "    <tr>\n",
       "      <th>10k</th>\n",
       "      <td>0.42345</td>\n",
       "      <td>NaN</td>\n",
       "      <td>NaN</td>\n",
       "      <td>NaN</td>\n",
       "      <td>NaN</td>\n",
       "    </tr>\n",
       "    <tr>\n",
       "      <th>50k</th>\n",
       "      <td>0.40541</td>\n",
       "      <td>0.18502</td>\n",
       "      <td>NaN</td>\n",
       "      <td>NaN</td>\n",
       "      <td>NaN</td>\n",
       "    </tr>\n",
       "    <tr>\n",
       "      <th>120k</th>\n",
       "      <td>0.40101</td>\n",
       "      <td>0.17811</td>\n",
       "      <td>0.08938</td>\n",
       "      <td>NaN</td>\n",
       "      <td>NaN</td>\n",
       "    </tr>\n",
       "    <tr>\n",
       "      <th>250k</th>\n",
       "      <td>0.39894</td>\n",
       "      <td>0.17235</td>\n",
       "      <td>0.08271</td>\n",
       "      <td>0.05251</td>\n",
       "      <td>NaN</td>\n",
       "    </tr>\n",
       "  </tbody>\n",
       "</table>\n",
       "</div>"
      ],
      "text/plain": [
       "           1k      10k      50k     120k  250k\n",
       "                                              \n",
       "1k        NaN      NaN      NaN      NaN   NaN\n",
       "10k   0.42345      NaN      NaN      NaN   NaN\n",
       "50k   0.40541  0.18502      NaN      NaN   NaN\n",
       "120k  0.40101  0.17811  0.08938      NaN   NaN\n",
       "250k  0.39894  0.17235  0.08271  0.05251   NaN"
      ]
     },
     "execution_count": 136,
     "metadata": {},
     "output_type": "execute_result"
    }
   ],
   "source": [
    "comp_matrix = \"...\" # Insert path to csv containing matrix comparing distances between models\n",
    "df = pd.read_csv(comp_matrix, index_col = ' ')\n",
    "\n",
    "df"
   ]
  },
  {
   "cell_type": "code",
   "execution_count": 141,
   "id": "verified-teach",
   "metadata": {},
   "outputs": [
    {
     "data": {
      "image/png": "[encoded data removed]",
      "text/plain": [
       "<Figure size 432x288 with 2 Axes>"
      ]
     },
     "metadata": {
      "needs_background": "light"
     },
     "output_type": "display_data"
    }
   ],
   "source": [
    "matrix_mask = np.triu(df) # Create mask so only get lower matrix\n",
    "plot = sns.heatmap(df, annot=True, mask=matrix_mask)\n",
    "fig = plot.get_figure()\n",
    "# fig.savefig('ICD section correlations plot.jpg')"
   ]
  }
 ],
 "metadata": {
  "kernelspec": {
   "display_name": "Python 3",
   "language": "python",
   "name": "python3"
  },
  "language_info": {
   "codemirror_mode": {
    "name": "ipython",
    "version": 3
   },
   "file_extension": ".py",
   "mimetype": "text/x-python",
   "name": "python",
   "nbconvert_exporter": "python",
   "pygments_lexer": "ipython3",
   "version": "3.8.5"
  }
 },
 "nbformat": 4,
 "nbformat_minor": 5
}
