{
 "cells": [
  {
   "cell_type": "code",
   "execution_count": 1,
   "metadata": {},
   "outputs": [],
   "source": [
    "import pandas as pd\n",
    "import numpy as np\n",
    "import os\n",
    "from pandasql import sqldf\n",
    "from scipy import stats\n",
    "import time\n",
    "import networkx as nx"
   ]
  },
  {
   "cell_type": "code",
   "execution_count": null,
   "metadata": {},
   "outputs": [],
   "source": [
    "dataset_loc = '...'\n",
    "bnf_df = pd.read_csv(dataset_loc)\n",
    "\n",
    "bnf_list = [[]] # Insert list of prescription pairs to test directionality for eg. for pairs with RR > 1 in either/both directions\n",
    "\n",
    "dir_result = []\n",
    "\n",
    "# For each pair, find patients who are prescribed with each prescription in the pair at least once\n",
    "# and add columns for which prescrption appears first\n",
    "for bnf1, bnf2 in bnf_list:\n",
    "    q = \"\"\"\n",
    "    SELECT MIN(a.patid), MIN(a.eventdate), MIN(a.bnfchapter), MAX(b.patid), MIN(b.eventdate), MIN(b.bnfchapter),\n",
    "    MIN(a.eventdate)<MIN(b.eventdate) as D1first, MIN(a.eventdate)>MIN(b.eventdate) as D2first\n",
    "    FROM bnf_dx AS a\n",
    "    JOIN bnf_dx AS b\n",
    "    ON a.patid = b.patid\n",
    "    WHERE a.bnfchapter = {}\n",
    "    AND b.bnfchapter = {}\n",
    "    GROUP BY a.patid\n",
    "    LIMIT 10000000;\n",
    "    \"\"\".format(bnf1,bnf2)\n",
    "    pairdf = sqldf(q)\n",
    "    D1first = pairdf['D1first'].sum() # Sum number of times D1 prescribed first\n",
    "    D2first = pairdf['D2first'].sum() # Sum number of times D2 prescribed first\n",
    "    total = len(pairdf) # Total number of patients with both prescriptions\n",
    "    D1pval = stats.binom_test(D1first, n=total, p = 0.5, alternative='greater') # p-value from binomial test for D1\n",
    "    D2pval = stats.binom_test(D2first, n=total, p = 0.5, alternative='greater') # p-value from binomial test for D2\n",
    "    # Record results\n",
    "    pair_result = []\n",
    "    pair_result.append(bnf1)\n",
    "    pair_result.append(bnf2)\n",
    "    pair_result.append(D1first)\n",
    "    pair_result.append(D2first)\n",
    "    pair_result.append(total)\n",
    "    pair_result.append(D1pval)\n",
    "    pair_result.append(D2pval)\n",
    "    dir_result.append(pair_result)\n",
    "    print(pair_result)\n",
    "\n",
    "# pd.DataFrame(dir_result).to_csv('BNFChaptersDirTestResults.csv', index = False)   "
   ]
  }
 ],
 "metadata": {
  "kernelspec": {
   "display_name": "Python 3",
   "language": "python",
   "name": "python3"
  },
  "language_info": {
   "codemirror_mode": {
    "name": "ipython",
    "version": 3
   },
   "file_extension": ".py",
   "mimetype": "text/x-python",
   "name": "python",
   "nbconvert_exporter": "python",
   "pygments_lexer": "ipython3",
   "version": "3.8.5"
  }
 },
 "nbformat": 4,
 "nbformat_minor": 4
}
