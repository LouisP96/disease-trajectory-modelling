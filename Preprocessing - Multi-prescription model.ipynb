{
 "cells": [
  {
   "cell_type": "code",
   "execution_count": 1,
   "metadata": {},
   "outputs": [],
   "source": [
    "import pandas as pd\n",
    "import numpy as np\n",
    "import os\n",
    "from pandasql import sqldf\n",
    "from scipy import stats\n",
    "import time\n",
    "import networkx as nx"
   ]
  },
  {
   "cell_type": "code",
   "execution_count": 16,
   "metadata": {},
   "outputs": [],
   "source": [
    "dataset_loc = \"...\" # Insert dataset path\n",
    "matched_dataset_loc_SECTION = \"...\" # Insert path to matched patient dataset for BNF sections\n",
    "matched_dataset_loc_CHAPTER = \"...\" # Insert path to matched patient dataset for BNF chapters (if running this model)\n",
    "matched_dataset_loc_PARAGRAPH = \"...\" # Insert path to matched patient dataset for BNF paragraphs (if running this model)\n",
    "\n",
    "bnf_df = pd.read_csv(dataset_loc) # Load dataset\n",
    "\n",
    "# Convert date columns to datetime datatype\n",
    "bnf_df['eventdate'] = pd.to_datetime(bnf_df['eventdate'])\n",
    "\n",
    "# Add index\n",
    "bnf_df.to_csv(dataset_loc, index=True)  \n",
    "\n",
    "# Have to load again in order to name the index column\n",
    "bnf_df = pd.read_csv(dataset_loc)\n",
    "\n",
    "# Name the index column\n",
    "bnf_df.rename(columns = {'Unnamed: 0':'matchindex'}, inplace=True)"
   ]
  },
  {
   "cell_type": "code",
   "execution_count": null,
   "metadata": {},
   "outputs": [],
   "source": [
    "# Create new index ordered by episode date\n",
    "\n",
    "bnf_df = bnf_df.sort_values(by=\"eventdate\")\n",
    "bnf_df = bnf_df.reset_index(drop=True)\n",
    "bnf_df.to_csv(dataset_loc, index=True)\n",
    "bnf_df = pd.read_csv(dataset_loc)\n",
    "bnf_df.rename(columns = {'Unnamed: 0':'dateindex'}, inplace=True)\n",
    "bnf_df.to_csv(dataset_loc, index=False)"
   ]
  },
  {
   "cell_type": "code",
   "execution_count": null,
   "metadata": {},
   "outputs": [],
   "source": [
    "# Create column on matched patients csv to match with bnf_df row (SECTION)\n",
    "\n",
    "match = pd.read_csv(matched_dataset_loc_SECTION)\n",
    "match.to_csv(matched_dataset_loc_SECTION, index=True)\n",
    "match = pd.read_csv(matched_dataset_loc_SECTION)\n",
    "match.rename(columns = {'Unnamed: 0':'matchindex'}, inplace=True)\n",
    "match.to_csv(matched_dataset_loc_SECTION, index=False)"
   ]
  },
  {
   "cell_type": "code",
   "execution_count": null,
   "metadata": {},
   "outputs": [],
   "source": [
    "# Create column on matched patients csv to match with bnf_df row (CHAPTER)\n",
    "\n",
    "match = pd.read_csv(matched_dataset_loc_CHAPTER)\n",
    "match.to_csv(matched_dataset_loc_CHAPTER, index=True)\n",
    "match = pd.read_csv(matched_dataset_loc_CHAPTER)\n",
    "match.rename(columns = {'Unnamed: 0':'matchindex'}, inplace=True)\n",
    "match.to_csv(matched_dataset_loc_CHAPTER, index=False)"
   ]
  },
  {
   "cell_type": "code",
   "execution_count": null,
   "metadata": {},
   "outputs": [],
   "source": [
    "# Create column on matched patients csv to match with bnf_df row (PARAGRAPH)\n",
    "\n",
    "match = pd.read_csv(matched_dataset_loc_PARAGRAPH)\n",
    "match.to_csv(matched_dataset_loc_PARAGRAPH, index=True)\n",
    "match = pd.read_csv(matched_dataset_loc_PARAGRAPH)\n",
    "match.rename(columns = {'Unnamed: 0':'matchindex'}, inplace=True)\n",
    "match.to_csv(matched_dataset_loc_PARAGRAPH, index=False)"
   ]
  }
 ],
 "metadata": {
  "kernelspec": {
   "display_name": "Python 3",
   "language": "python",
   "name": "python3"
  },
  "language_info": {
   "codemirror_mode": {
    "name": "ipython",
    "version": 3
   },
   "file_extension": ".py",
   "mimetype": "text/x-python",
   "name": "python",
   "nbconvert_exporter": "python",
   "pygments_lexer": "ipython3",
   "version": "3.8.5"
  }
 },
 "nbformat": 4,
 "nbformat_minor": 4
}
