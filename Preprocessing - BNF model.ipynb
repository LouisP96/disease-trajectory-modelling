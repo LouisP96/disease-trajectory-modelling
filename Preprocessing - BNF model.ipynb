{
 "cells": [
  {
   "cell_type": "code",
   "execution_count": 1,
   "metadata": {},
   "outputs": [],
   "source": [
    "import pandas as pd\n",
    "import numpy as np\n",
    "import os\n",
    "from pandasql import sqldf\n",
    "from scipy import stats\n",
    "import time"
   ]
  },
  {
   "cell_type": "code",
   "execution_count": 6,
   "metadata": {},
   "outputs": [],
   "source": [
    "dataset_loc = '...'\n",
    "\n",
    "bnf_df = pd.read_csv(dataset_loc)"
   ]
  },
  {
   "cell_type": "code",
   "execution_count": null,
   "metadata": {},
   "outputs": [],
   "source": [
    "# Add in BNF chapter, section and paragraph columns to dataset"
   ]
  },
  {
   "cell_type": "code",
   "execution_count": 8,
   "metadata": {},
   "outputs": [],
   "source": [
    "bnf_df['bnfchapter'] = bnf_df['bnf'].astype(str).str[0:2]\n",
    "bnf_df['bnfsection'] = bnf_df['bnf'].astype(str).str[0:4]\n",
    "bnf_df['bnfparagraph'] = bnf_df['bnf'].astype(str).str[0:6]"
   ]
  },
  {
   "cell_type": "code",
   "execution_count": null,
   "metadata": {},
   "outputs": [],
   "source": [
    "# Filter out only first 15 chapters"
   ]
  },
  {
   "cell_type": "code",
   "execution_count": 10,
   "metadata": {},
   "outputs": [],
   "source": [
    "bnf_list = np.arange(15)+1\n",
    "bnf_df['bnfchapter'] = pd.to_numeric(bnf_df['bnfchapter'])\n",
    "bnf_df = bnf_df[bnf_df['bnfchapter'].isin(list(bnf_list))]"
   ]
  },
  {
   "cell_type": "code",
   "execution_count": 16,
   "metadata": {},
   "outputs": [],
   "source": [
    "# Convert some textual columns to ints so that search algorithms run faster"
   ]
  },
  {
   "cell_type": "code",
   "execution_count": 19,
   "metadata": {},
   "outputs": [],
   "source": [
    "sequential = pd.Series(bnf_df[\"gen_ethnicity\"].unique()).reset_index().rename(columns={0: \"gen_ethnicity\"})\n",
    "bnf_df = bnf_df.merge(sequential, on=\"gen_ethnicity\")\n",
    "bnf_df = bnf_df.rename(columns={\"index\": \"gen_ethnicity_int\"})"
   ]
  },
  {
   "cell_type": "code",
   "execution_count": 21,
   "metadata": {},
   "outputs": [],
   "source": [
    "# Save csv\n",
    "# bnf_df.to_csv('bnf_df.csv', index=False)"
   ]
  }
 ],
 "metadata": {
  "kernelspec": {
   "display_name": "Python 3",
   "language": "python",
   "name": "python3"
  },
  "language_info": {
   "codemirror_mode": {
    "name": "ipython",
    "version": 3
   },
   "file_extension": ".py",
   "mimetype": "text/x-python",
   "name": "python",
   "nbconvert_exporter": "python",
   "pygments_lexer": "ipython3",
   "version": "3.8.5"
  }
 },
 "nbformat": 4,
 "nbformat_minor": 4
}
