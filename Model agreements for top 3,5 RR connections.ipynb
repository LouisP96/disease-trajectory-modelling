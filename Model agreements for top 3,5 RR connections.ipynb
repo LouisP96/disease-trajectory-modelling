{
 "cells": [
  {
   "cell_type": "code",
   "execution_count": 1,
   "metadata": {},
   "outputs": [],
   "source": [
    "import pandas as pd\n",
    "import numpy as np\n",
    "import os\n",
    "from pandasql import sqldf\n",
    "from scipy import stats\n",
    "import time\n",
    "import networkx as nx\n",
    "import simple_icd_10_cm as cm\n",
    "import random"
   ]
  },
  {
   "cell_type": "code",
   "execution_count": null,
   "metadata": {},
   "outputs": [],
   "source": [
    "# Calculate overlap between top 3/5 RR connections for each node across the same model using different subsets of the data\n",
    "# or different models"
   ]
  },
  {
   "cell_type": "code",
   "execution_count": 167,
   "metadata": {},
   "outputs": [],
   "source": [
    "dataset_1 = '...' # Insert path to csv containing results including columns: Source Node (\"D1\"), Destination Node (\"D2\") and RR (\"RR\")\n",
    "dataset_2 = '...' # Insert path to csv to compare against containing results in same format\n",
    "\n",
    "df1 = pd.read_csv(dataset_1) \n",
    "df2 = pd.read_csv(dataset_2) \n",
    "\n",
    "dx_list = df1['D1'].value_counts().index # List of nodes"
   ]
  },
  {
   "cell_type": "code",
   "execution_count": 164,
   "metadata": {
    "scrolled": true
   },
   "outputs": [],
   "source": [
    "top_3_total = 0\n",
    "top_5_total = 0\n",
    "for dx in dx_list:\n",
    "    d1 = df1[df1['D1']== dx].sort_values(by=['RR'],ascending=False) # Sort first dataset into descending order by RR\n",
    "    d2 = df2[df2['D1']==dx].sort_values(by=['RR'],ascending=False) #  Sort second dataset into descending order by RR\n",
    "    top_3_total += len(set(d1[:3]['D2']).intersection(set(d2[:3]['D2']))) # Amount of overlap between first 3 values\n",
    "    top_5_total += len(set(d1[:5]['D2']).intersection(set(d2[:5]['D2']))) # Amount of overlap between first 5 values\n",
    "    \n",
    "top_3_percent = top_3_total/(len(dx_list)*3) # % overlap for top 3 connections across all nodes \n",
    "top_5_percent = top_5_total/(len(dx_list)*5) # % overlap for top 5 connections across all nodes "
   ]
  }
 ],
 "metadata": {
  "kernelspec": {
   "display_name": "Python 3",
   "language": "python",
   "name": "python3"
  },
  "language_info": {
   "codemirror_mode": {
    "name": "ipython",
    "version": 3
   },
   "file_extension": ".py",
   "mimetype": "text/x-python",
   "name": "python",
   "nbconvert_exporter": "python",
   "pygments_lexer": "ipython3",
   "version": "3.8.5"
  }
 },
 "nbformat": 4,
 "nbformat_minor": 4
}
