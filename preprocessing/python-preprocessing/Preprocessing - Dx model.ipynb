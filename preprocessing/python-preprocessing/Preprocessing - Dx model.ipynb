{
 "cells": [
  {
   "cell_type": "code",
   "execution_count": 4,
   "metadata": {},
   "outputs": [],
   "source": [
    "import pandas as pd\n",
    "import numpy as np\n",
    "import os\n",
    "from pandasql import sqldf\n",
    "from scipy import stats\n",
    "import time\n",
    "import simple_icd_10_cm as cm"
   ]
  },
  {
   "cell_type": "code",
   "execution_count": 5,
   "metadata": {},
   "outputs": [],
   "source": [
    "dataset_loc = '...'\n",
    "\n",
    "dx_df = pd.read_csv(dataset_loc)"
   ]
  },
  {
   "cell_type": "code",
   "execution_count": 4,
   "metadata": {},
   "outputs": [],
   "source": [
    "# Remove maternity/NA admission method codes"
   ]
  },
  {
   "cell_type": "code",
   "execution_count": 8,
   "metadata": {},
   "outputs": [],
   "source": [
    "matNAcodes = ['31','32','82','99','98','83']\n",
    "dx_df = dx_df[~dx_df['admimeth'].isin(matNAcodes)]"
   ]
  },
  {
   "cell_type": "code",
   "execution_count": 10,
   "metadata": {},
   "outputs": [],
   "source": [
    "# Create flag for whether IP or ED based on admimeth"
   ]
  },
  {
   "cell_type": "code",
   "execution_count": 11,
   "metadata": {},
   "outputs": [],
   "source": [
    "IP_codes = ['11','12','13','81']\n",
    "dx_df['IP?'] = np.where(dx_df['admimeth'].isin(IP_codes), 1, 0)"
   ]
  },
  {
   "cell_type": "code",
   "execution_count": null,
   "metadata": {},
   "outputs": [],
   "source": [
    "# Manually add ICD chapters"
   ]
  },
  {
   "cell_type": "code",
   "execution_count": 14,
   "metadata": {},
   "outputs": [],
   "source": [
    "def icd_chapter(row):\n",
    "    if row['icd'][0] == 'A' or row['icd'][0] == 'B':\n",
    "        return 1\n",
    "    if row['icd'][0] == 'C' :\n",
    "        return 2\n",
    "    if row['icd'][0] == 'D' and int(row['icd'][1]) <= 4:\n",
    "        return 2\n",
    "    if row['icd'][0] == 'D' and int(row['icd'][1]) > 4:\n",
    "        return 3\n",
    "    if row['icd'][0] == 'E':\n",
    "        return 4\n",
    "    if row['icd'][0] == 'F':\n",
    "        return 5\n",
    "    if row['icd'][0] == 'G':\n",
    "        return 6\n",
    "    if row['icd'][0] == 'H' and int(row['icd'][1]) <= 5:\n",
    "        return 7\n",
    "    if row['icd'][0] == 'H' and int(row['icd'][1]) > 5:\n",
    "        return 8\n",
    "    if row['icd'][0] == 'I':\n",
    "        return 9\n",
    "    if row['icd'][0] == 'J':\n",
    "        return 10\n",
    "    if row['icd'][0] == 'K':\n",
    "        return 11\n",
    "    if row['icd'][0] == 'L':\n",
    "        return 12\n",
    "    if row['icd'][0] == 'M':\n",
    "        return 13\n",
    "    if row['icd'][0] == 'N':\n",
    "        return 14\n",
    "    if row['icd'][0] == 'O':\n",
    "        return 15\n",
    "    if row['icd'][0] == 'P':\n",
    "        return 16\n",
    "    if row['icd'][0] == 'Q':\n",
    "        return 17\n",
    "    if row['icd'][0] == 'R':\n",
    "        return 18\n",
    "    if row['icd'][0] == 'S' or row['icd'][0] == 'T':\n",
    "        return 19\n",
    "    if row['icd'][0] == 'V' or row['icd'][0] == 'W' or row['icd'][0] == 'X' or row['icd'][0] == 'Y':\n",
    "        return 20\n",
    "    if row['icd'][0] == 'Z':\n",
    "        return 21\n",
    "    if row['icd'][0] == 'U':\n",
    "        return 22\n",
    "    return 'blank'"
   ]
  },
  {
   "cell_type": "code",
   "execution_count": 1,
   "metadata": {},
   "outputs": [],
   "source": [
    "dx_df['chapter'] = dx_df.apply(lambda row: icd_chapter(row), axis=1)"
   ]
  },
  {
   "cell_type": "code",
   "execution_count": 16,
   "metadata": {},
   "outputs": [],
   "source": [
    "# Remove certain ICD chapters from dataset"
   ]
  },
  {
   "cell_type": "code",
   "execution_count": 18,
   "metadata": {},
   "outputs": [],
   "source": [
    "dx_df = dx_df[(dx_df['chapter']!=16) & (dx_df['chapter']!=20) & (dx_df['chapter']!=21) & (dx_df['chapter']!=22)]"
   ]
  },
  {
   "cell_type": "code",
   "execution_count": null,
   "metadata": {},
   "outputs": [],
   "source": [
    "# Add ICD section column to dataset"
   ]
  },
  {
   "cell_type": "code",
   "execution_count": 20,
   "metadata": {},
   "outputs": [],
   "source": [
    "def icd_section(row):\n",
    "    try:\n",
    "        return cm.get_parent(row['icd'])\n",
    "    except:\n",
    "        if row['icd'] == 'I84':\n",
    "            return 'I80-I89'\n",
    "        if row['icd'] == 'F00':\n",
    "            return 'F01-F09'\n",
    "        if row['icd'] == 'I64':\n",
    "            return 'I60-I69'\n",
    "        if row['icd'] == 'E14':\n",
    "            return 'E08-E13'\n",
    "        if row['icd'] == 'R02':\n",
    "            return 'R00-R09'\n",
    "        if row['icd'] == 'K07':\n",
    "            return 'I60-I69'\n",
    "        else:\n",
    "            return row['icd']"
   ]
  },
  {
   "cell_type": "code",
   "execution_count": 2,
   "metadata": {},
   "outputs": [],
   "source": [
    "dx_df['section'] = dx_df.apply(icd_section,axis=1)"
   ]
  },
  {
   "cell_type": "code",
   "execution_count": null,
   "metadata": {},
   "outputs": [],
   "source": [
    "# Convert some textual columns to ints so that search algorithms run faster"
   ]
  },
  {
   "cell_type": "code",
   "execution_count": 22,
   "metadata": {},
   "outputs": [],
   "source": [
    "sequential = pd.Series(dx_df[\"gen_ethnicity\"].unique()).reset_index().rename(columns={0: \"gen_ethnicity\"})\n",
    "dx_df = dx_df.merge(sequential, on=\"gen_ethnicity\")\n",
    "dx_df = dx_df.rename(columns={\"index\": \"gen_ethnicity_int\"})"
   ]
  },
  {
   "cell_type": "code",
   "execution_count": 23,
   "metadata": {},
   "outputs": [],
   "source": [
    "sequential = pd.Series(dx_df[\"icd\"].unique()).reset_index().rename(columns={0: \"icd\"})\n",
    "dx_df = dx_df.merge(sequential, on=\"icd\")\n",
    "dx_df = dx_df.rename(columns={\"index\": \"icd_int\"})"
   ]
  },
  {
   "cell_type": "code",
   "execution_count": 24,
   "metadata": {},
   "outputs": [],
   "source": [
    "sequential = pd.Series(dx_df[\"section\"].unique()).reset_index().rename(columns={0: \"section\"})\n",
    "dx_df = dx_df.merge(sequential, on=\"section\")\n",
    "dx_df = dx_df.rename(columns={\"index\": \"section_int\"})"
   ]
  },
  {
   "cell_type": "code",
   "execution_count": 26,
   "metadata": {},
   "outputs": [],
   "source": [
    "# Save csv\n",
    "# dx_df.to_csv('dx_df.csv', index=False)"
   ]
  },
  {
   "cell_type": "code",
   "execution_count": 32,
   "metadata": {},
   "outputs": [],
   "source": [
    "# Create section to section_int lookup\n",
    "# dx_df.groupby(['section', 'section_int']).size().reset_index().rename(columns={0:'count'}).to_csv('section_to_int_lookup.csv',index=False)"
   ]
  },
  {
   "cell_type": "code",
   "execution_count": 34,
   "metadata": {},
   "outputs": [
    {
     "data": {
      "text/plain": [
       "R50-R69    66246\n",
       "R10-R19    64867\n",
       "I30-I52    59562\n",
       "K55-K64    57327\n",
       "K20-K31    57109\n",
       "           ...  \n",
       "M73            1\n",
       "R96            1\n",
       "R95            1\n",
       "O83            1\n",
       "G22            1\n",
       "Name: section, Length: 275, dtype: int64"
      ]
     },
     "execution_count": 34,
     "metadata": {},
     "output_type": "execute_result"
    }
   ],
   "source": [
    "dx_df['section'].value_counts()"
   ]
  }
 ],
 "metadata": {
  "kernelspec": {
   "display_name": "Python 3",
   "language": "python",
   "name": "python3"
  },
  "language_info": {
   "codemirror_mode": {
    "name": "ipython",
    "version": 3
   },
   "file_extension": ".py",
   "mimetype": "text/x-python",
   "name": "python",
   "nbconvert_exporter": "python",
   "pygments_lexer": "ipython3",
   "version": "3.8.5"
  }
 },
 "nbformat": 4,
 "nbformat_minor": 4
}
