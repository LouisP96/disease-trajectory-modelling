{
 "cells": [
  {
   "cell_type": "code",
   "execution_count": 1,
   "metadata": {},
   "outputs": [],
   "source": [
    "import pandas as pd\n",
    "import numpy as np\n",
    "import os\n",
    "from pandasql import sqldf\n",
    "from scipy import stats\n",
    "import time\n",
    "import networkx as nx"
   ]
  },
  {
   "cell_type": "code",
   "execution_count": 16,
   "metadata": {},
   "outputs": [],
   "source": [
    "dataset_loc = \"...\" # Insert dataset path\n",
    "matched_dataset_loc_SECTION = \"...\" # Insert path to matched patient dataset for ICD-10 sections\n",
    "matched_dataset_loc_CHAPTER = \"...\" # Insert path to matched patient dataset for ICD-10 chapters (if running this model)\n",
    "matched_dataset_loc_CATEGORIES = \"...\" # Insert path to matched patient dataset for ICD-10 categories (if running this model)\n",
    "\n",
    "dx_df = pd.read_csv(dataset_loc) # Load dataset\n",
    "\n",
    "# Convert date columns to datetime datatype\n",
    "dx_df['epistart'] = pd.to_datetime(dx_df['epistart'])\n",
    "dx_df['epiend'] = pd.to_datetime(dx_df['epiend'])\n",
    "\n",
    "# Add index\n",
    "dx_df.to_csv(dataset_loc, index=True)  \n",
    "\n",
    "# Have to load again in order to name the index column\n",
    "dx_df = pd.read_csv(dataset_loc)\n",
    "\n",
    "# Name the index column and a few others\n",
    "dx_df.rename(columns = {'Unnamed: 0':'matchindex', 'IP?':'IP'}, inplace=True)"
   ]
  },
  {
   "cell_type": "code",
   "execution_count": null,
   "metadata": {},
   "outputs": [],
   "source": [
    "# Create new index ordered by episode date\n",
    "\n",
    "dx_df = dx_df.sort_values(by=\"epistart\")\n",
    "dx_df = dx_df.reset_index(drop=True)\n",
    "dx_df.to_csv(dataset_loc, index=True)\n",
    "dx_df = pd.read_csv(dataset_loc)\n",
    "dx_df.rename(columns = {'Unnamed: 0':'dateindex'}, inplace=True)\n",
    "dx_df.to_csv(dataset_loc, index=False)"
   ]
  },
  {
   "cell_type": "code",
   "execution_count": null,
   "metadata": {},
   "outputs": [],
   "source": [
    "# Create column on matched patients csv to match with dx_df row (SECTION)\n",
    "\n",
    "match = pd.read_csv(matched_dataset_loc_SECTION)\n",
    "match.to_csv(matched_dataset_loc_SECTION, index=True)\n",
    "match = pd.read_csv(matched_dataset_loc_SECTION)\n",
    "match.rename(columns = {'Unnamed: 0':'matchindex'}, inplace=True)\n",
    "match.to_csv(matched_dataset_loc_SECTION, index=False)"
   ]
  },
  {
   "cell_type": "code",
   "execution_count": null,
   "metadata": {},
   "outputs": [],
   "source": [
    "# Create column on matched patients csv to match with dx_df row (CHAPTER)\n",
    "\n",
    "match = pd.read_csv(matched_dataset_loc_CHAPTER)\n",
    "match.to_csv(matched_dataset_loc_CHAPTER, index=True)\n",
    "match = pd.read_csv(matched_dataset_loc_CHAPTER)\n",
    "match.rename(columns = {'Unnamed: 0':'matchindex'}, inplace=True)\n",
    "match.to_csv(matched_dataset_loc_CHAPTER, index=False)"
   ]
  },
  {
   "cell_type": "code",
   "execution_count": null,
   "metadata": {},
   "outputs": [],
   "source": [
    "# Create column on matched patients csv to match with dx_df row (CATEGORIES)\n",
    "\n",
    "match = pd.read_csv(matched_dataset_loc_CATEGORIES)\n",
    "match.to_csv(matched_dataset_loc_CATEGORIES, index=True)\n",
    "match = pd.read_csv(matched_dataset_loc_CATEGORIES)\n",
    "match.rename(columns = {'Unnamed: 0':'matchindex'}, inplace=True)\n",
    "match.to_csv(matched_dataset_loc_CATEGORIES, index=False)"
   ]
  }
 ],
 "metadata": {
  "kernelspec": {
   "display_name": "Python 3",
   "language": "python",
   "name": "python3"
  },
  "language_info": {
   "codemirror_mode": {
    "name": "ipython",
    "version": 3
   },
   "file_extension": ".py",
   "mimetype": "text/x-python",
   "name": "python",
   "nbconvert_exporter": "python",
   "pygments_lexer": "ipython3",
   "version": "3.8.5"
  }
 },
 "nbformat": 4,
 "nbformat_minor": 4
}
